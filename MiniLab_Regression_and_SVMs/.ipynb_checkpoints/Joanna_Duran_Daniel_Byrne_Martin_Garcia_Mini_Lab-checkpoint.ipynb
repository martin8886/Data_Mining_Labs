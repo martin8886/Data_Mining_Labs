{
 "cells": [
  {
   "cell_type": "markdown",
   "metadata": {},
   "source": [
    "# Logisitic Regression and Support Vector Machines Minilab"
   ]
  },
  {
   "cell_type": "markdown",
   "metadata": {},
   "source": [
    "We will perform predictive analysis (classification) upon our data set. We will model the dataset using methods we have discussed in class, logistic regression and support vector machines, and make conclusions from the analysis. We will follow the CRISP-DM framework in your analysis."
   ]
  },
  {
   "cell_type": "markdown",
   "metadata": {},
   "source": [
    "By Martin Garcia, Joanna Duran, Daniel Byrne"
   ]
  },
  {
   "cell_type": "markdown",
   "metadata": {},
   "source": [
    "## Packages"
   ]
  },
  {
   "cell_type": "code",
   "execution_count": 1,
   "metadata": {},
   "outputs": [],
   "source": [
    "import numpy as np\n",
    "import pandas as pd\n",
    "import matplotlib.pyplot as plt\n",
    "import pickle\n",
    "import random\n",
    "import time\n",
    "\n",
    "from sklearn.linear_model import SGDClassifier\n",
    "from sklearn.utils import compute_class_weight\n",
    "\n",
    "%matplotlib inline\n",
    "plt.rcParams['figure.figsize'] = (5.0, 4.0) # set default size of plots\n",
    "plt.rcParams['image.interpolation'] = 'nearest'\n",
    "plt.rcParams['image.cmap'] = 'gray'"
   ]
  },
  {
   "cell_type": "markdown",
   "metadata": {},
   "source": [
    "## Business Understanding"
   ]
  },
  {
   "cell_type": "markdown",
   "metadata": {},
   "source": [
    "Our objective is to create a logistic regression model and a support vector machine model for the classification of each image. We will determine which is a better model based on prediction accuracy, training time, and efficiency.The CIFAR-10 dataset (Canadian Institute For Advanced Research) is a collection of images that are commonly used to train machine learning and computer vision algorithms. It is one of the most widely used datasets for machine learning research. It is a subset of the 80 million tiny images dataset and consists of 60,000 32x32 color images containing one of 10 object classes, with 6,000 images per class. "
   ]
  },
  {
   "cell_type": "markdown",
   "metadata": {},
   "source": [
    "Our objective is to create a logistic regression model and a support vector machine model for the classification of each image in our test set. We will determine which model is best suited for this standard classification task based on a comparison on their prediction accuracy, training times, and computational efficiency."
   ]
  },
  {
   "cell_type": "markdown",
   "metadata": {},
   "source": [
    "## Data Meaning Type"
   ]
  },
  {
   "cell_type": "markdown",
   "metadata": {},
   "source": [
    "### The CIFAR-10 dataset\n",
    "\n",
    "We are using the [CIFAR-10](http://www.cs.toronto.edu/~kriz/cifar.html) dataset which consists of 60000 32x32 colour images in 10 classes, with 6000 images per class. The dataset includes are 50000(80%) training images and 10000(20%) test images broken in to 5 pre-randomized training batches and 1 test batch."
   ]
  },
  {
   "cell_type": "markdown",
   "metadata": {},
   "source": [
    "Each training batch contains 10,000 observations with a row vector of length 3072 representative of color image of 32x32 pixels. The first 1024 columns consist of red values, followed by green, and blue. The data also incorporates labels ranging from 0 to 9 and are listed below.\n",
    "\n",
    "* airplane : 0\n",
    "* automobile : 1\n",
    "* bird : 2\n",
    "* cat : 3\n",
    "* deer : 4\n",
    "* dog : 5\n",
    "* frog : 6\n",
    "* horse : 7\n",
    "* ship : 8\n",
    "* truck : 9"
   ]
  },
  {
   "cell_type": "markdown",
   "metadata": {},
   "source": [
    "The test batch contains 1000 randomly-selected images from each class. The 5 training batches are randomized and contain a variable number of images from each class. "
   ]
  },
  {
   "cell_type": "markdown",
   "metadata": {},
   "source": [
    "The classes are completely mutually exclusive. There is no overlap between automobiles and trucks. \"Automobile\" includes sedans, SUVs, things of that sort. \"Truck\" includes only big trucks. Neither includes pickup trucks."
   ]
  },
  {
   "cell_type": "markdown",
   "metadata": {},
   "source": [
    "## Simple Statistics"
   ]
  },
  {
   "cell_type": "code",
   "execution_count": 2,
   "metadata": {},
   "outputs": [],
   "source": [
    "#load the data, reshape to 32x32 matrix per color, transpose matrices\n",
    "def load_cfar10_batch(path, batch_id = None, reshape = True):\n",
    "    \"\"\"\n",
    "    Argument:\n",
    "    path -- path the datasets\n",
    "    batch_id -- id of the batch (1 to 5) to load\n",
    "    \n",
    "    Returns:\n",
    "    parameters -- python dictionary containing:\n",
    "                    X -- features\n",
    "                    Y -- labels\n",
    "    \"\"\"\n",
    "    if batch_id is not None:\n",
    "        filepath = path + 'data_batch_' + str(batch_id)\n",
    "    else:\n",
    "        filepath = path\n",
    "        \n",
    "    with open(filepath, mode='rb') as file:\n",
    "        # note the encoding type is 'latin1'\n",
    "        batch = pickle.load(file, encoding='latin1')\n",
    "    \n",
    "    if reshape:    \n",
    "        X = batch['data'].reshape((len(batch['data']), 3, 32, 32)).transpose(0, 2, 3, 1)\n",
    "        Y = np.array(batch['labels'])\n",
    "    else:\n",
    "        X = batch['data']\n",
    "        Y = np.array(batch['labels'])\n",
    "        \n",
    "    return X, Y"
   ]
  },
  {
   "cell_type": "code",
   "execution_count": 3,
   "metadata": {},
   "outputs": [
    {
     "name": "stdout",
     "output_type": "stream",
     "text": [
      "\n",
      "Stats of batch #1:\n",
      "# of Samples: 10000\n",
      "\n",
      "Label Counts of [0](AIRPLANE) : 1005\n",
      "Label Counts of [1](AUTOMOBILE) : 974\n",
      "Label Counts of [2](BIRD) : 1032\n",
      "Label Counts of [3](CAT) : 1016\n",
      "Label Counts of [4](DEER) : 999\n",
      "Label Counts of [5](DOG) : 937\n",
      "Label Counts of [6](FROG) : 1030\n",
      "Label Counts of [7](HORSE) : 1001\n",
      "Label Counts of [8](SHIP) : 1025\n",
      "Label Counts of [9](TRUCK) : 981\n",
      "\n",
      "Example of Image 5593:\n",
      "Image - Min Value: 0 Max Value: 241\n",
      "Image - Shape: (32, 32, 3)\n",
      "Label - Label Id: 5 Name: dog\n"
     ]
    },
    {
     "data": {
      "image/png": "[encoded data removed]",
      "text/plain": [
       "<Figure size 432x288 with 1 Axes>"
      ]
     },
     "metadata": {
      "needs_background": "light"
     },
     "output_type": "display_data"
    }
   ],
   "source": [
    "#load labels for our label\n",
    "def load_label_names():\n",
    "    return ['airplane', 'automobile', 'bird', 'cat', 'deer', 'dog', 'frog', 'horse', 'ship', 'truck']\n",
    "\n",
    "#display images\n",
    "def display_stats(data, batch_id, sample_id):\n",
    "    features, labels = load_cfar10_batch(data, batch_id)\n",
    "\n",
    "    if not (0 <= sample_id < len(features)):\n",
    "        print('{} samples in batch {}.  {} is out of range.'.format(len(features), batch_id, sample_id))\n",
    "        return None\n",
    "\n",
    "    print('\\nStats of batch #{}:'.format(batch_id))\n",
    "    print('# of Samples: {}\\n'.format(len(features)))\n",
    "\n",
    "    label_names = load_label_names()\n",
    "    label_counts = dict(zip(*np.unique(labels, return_counts=True)))\n",
    "    for key, value in label_counts.items():\n",
    "        print('Label Counts of [{}]({}) : {}'.format(key, label_names[key].upper(), value))\n",
    "\n",
    "    sample_image = features[sample_id]\n",
    "    sample_label = labels[sample_id]\n",
    "\n",
    "    print('\\nExample of Image {}:'.format(sample_id))\n",
    "    print('Image - Min Value: {} Max Value: {}'.format(sample_image.min(), sample_image.max()))\n",
    "    print('Image - Shape: {}'.format(sample_image.shape))\n",
    "    print('Label - Label Id: {} Name: {}'.format(sample_label, label_names[sample_label]))\n",
    "    plt.axis('off')\n",
    "    plt.imshow(sample_image)\n",
    "\n",
    "batch_id = random.randint(1,5)\n",
    "sample_id = random.randint(1,10000)\n",
    "display_stats( \"data/\", batch_id, sample_id)"
   ]
  },
  {
   "cell_type": "markdown",
   "metadata": {},
   "source": [
    "## Models\n",
    "\n",
    "In this section we will create a logistic regression model and a support vector machine model for the classification task involved with your dataset.  We will assess how well each model performs (use 80/20 training/testing split)and adjust parameters of the models to make them more accurate. "
   ]
  },
  {
   "cell_type": "markdown",
   "metadata": {},
   "source": [
    "One of our primary concerns was that single level logistic regression cannot handle a multiclass problem very well.  In order to tackle this issue we decided to change to simplify the problem to a binary classification exercise. We modified the training labels to be either the \"CAT\"/\"NOT CAT\" which simplified the task for our models."
   ]
  },
  {
   "cell_type": "markdown",
   "metadata": {},
   "source": [
    "### Logistic Regression Model"
   ]
  },
  {
   "cell_type": "code",
   "execution_count": null,
   "metadata": {
    "scrolled": true
   },
   "outputs": [
    {
     "name": "stdout",
     "output_type": "stream",
     "text": [
      "Data shape:  (50000, 3072)\n",
      "Labels shape:  (50000,)\n",
      "Test Data shape:  (10000, 3072)\n",
      "Test Labels shape:  (10000,)\n"
     ]
    }
   ],
   "source": [
    "# Build Logistic Regression Model with Stochastic Gradient Descent \n",
    "X,Y = load_cfar10_batch(\"data/\",1,False)\n",
    "\n",
    "for n in range(2,6):\n",
    "    x,y = load_cfar10_batch(\"data/\",n,False)    \n",
    "    X = np.concatenate((X,x),axis=0)\n",
    "    Y = np.concatenate((Y,y),axis=0)\n",
    "\n",
    "test_X,test_Y = load_cfar10_batch(\"data/test_batch\",None,False)\n",
    "\n",
    "# Modify the dataset labels to lable cats/not/cats\n",
    "#(if_test_is_false, if_test_is_true)[test]\n",
    "catY = (Y == 3)\n",
    "cat_test_Y = (test_Y == 3) \n",
    "\n",
    "sgdlr = SGDClassifier(alpha=0.001, max_iter=5000, tol=1e-3,verbose=1,n_jobs=4,loss=\"log\")\n",
    "\n",
    "print(\"Data shape: \",X.shape)\n",
    "print(\"Labels shape: \",catY.shape)\n",
    "\n",
    "print(\"Test Data shape: \",test_X.shape)\n",
    "print(\"Test Labels shape: \",cat_test_Y.shape)\n"
   ]
  },
  {
   "cell_type": "code",
   "execution_count": null,
   "metadata": {},
   "outputs": [
    {
     "name": "stdout",
     "output_type": "stream",
     "text": [
      "-- Epoch 1\n",
      "Norm: 1988.30, NNZs: 3072, Bias: -13.013373, T: 50000, Avg. loss: 499926.957992\n",
      "Total training time: 0.23 seconds.\n",
      "-- Epoch 2\n",
      "Norm: 1296.03, NNZs: 3072, Bias: -14.016845, T: 100000, Avg. loss: 61701.923954\n",
      "Total training time: 0.45 seconds.\n",
      "-- Epoch 3\n",
      "Norm: 1009.81, NNZs: 3072, Bias: -14.515728, T: 150000, Avg. loss: 36427.287059\n",
      "Total training time: 0.68 seconds.\n",
      "-- Epoch 4\n",
      "Norm: 845.67, NNZs: 3072, Bias: -14.855225, T: 200000, Avg. loss: 25630.624445\n",
      "Total training time: 0.90 seconds.\n",
      "-- Epoch 5\n",
      "Norm: 748.65, NNZs: 3072, Bias: -15.233474, T: 250000, Avg. loss: 19821.240605\n",
      "Total training time: 1.13 seconds.\n",
      "-- Epoch 6\n",
      "Norm: 685.15, NNZs: 3072, Bias: -15.451409, T: 300000, Avg. loss: 16161.518676\n",
      "Total training time: 1.35 seconds.\n",
      "-- Epoch 7\n",
      "Norm: 630.66, NNZs: 3072, Bias: -15.675111, T: 350000, Avg. loss: 13725.756895\n",
      "Total training time: 1.59 seconds.\n",
      "-- Epoch 8\n",
      "Norm: 585.19, NNZs: 3072, Bias: -15.888996, T: 400000, Avg. loss: 11782.790777\n",
      "Total training time: 1.82 seconds.\n",
      "-- Epoch 9\n",
      "Norm: 548.46, NNZs: 3072, Bias: -15.962834, T: 450000, Avg. loss: 10445.468005\n",
      "Total training time: 2.05 seconds.\n",
      "-- Epoch 10\n",
      "Norm: 521.87, NNZs: 3072, Bias: -16.126715, T: 500000, Avg. loss: 9302.352273\n",
      "Total training time: 2.27 seconds.\n",
      "-- Epoch 11\n",
      "Norm: 495.34, NNZs: 3072, Bias: -16.253109, T: 550000, Avg. loss: 8471.167706\n",
      "Total training time: 2.50 seconds.\n",
      "-- Epoch 12\n",
      "Norm: 477.73, NNZs: 3072, Bias: -16.367234, T: 600000, Avg. loss: 7655.065787\n",
      "Total training time: 2.73 seconds.\n",
      "-- Epoch 13\n",
      "Norm: 460.34, NNZs: 3072, Bias: -16.485955, T: 650000, Avg. loss: 7018.933465\n",
      "Total training time: 2.95 seconds.\n",
      "-- Epoch 14\n",
      "Norm: 445.11, NNZs: 3072, Bias: -16.602032, T: 700000, Avg. loss: 6497.990984\n",
      "Total training time: 3.18 seconds.\n",
      "-- Epoch 15\n",
      "Norm: 428.37, NNZs: 3072, Bias: -16.708350, T: 750000, Avg. loss: 6148.215211\n",
      "Total training time: 3.41 seconds.\n",
      "-- Epoch 16\n",
      "Norm: 415.83, NNZs: 3072, Bias: -16.810305, T: 800000, Avg. loss: 5697.322680\n",
      "Total training time: 3.63 seconds.\n",
      "-- Epoch 17\n",
      "Norm: 403.75, NNZs: 3072, Bias: -16.878595, T: 850000, Avg. loss: 5306.430229\n",
      "Total training time: 3.86 seconds.\n",
      "-- Epoch 18\n",
      "Norm: 392.91, NNZs: 3072, Bias: -16.926283, T: 900000, Avg. loss: 5060.256991\n",
      "Total training time: 4.09 seconds.\n",
      "-- Epoch 19\n",
      "Norm: 383.83, NNZs: 3072, Bias: -16.999624, T: 950000, Avg. loss: 4738.819518\n",
      "Total training time: 4.31 seconds.\n",
      "-- Epoch 20\n",
      "Norm: 375.58, NNZs: 3072, Bias: -17.068329, T: 1000000, Avg. loss: 4539.393570\n",
      "Total training time: 4.54 seconds.\n",
      "-- Epoch 21\n",
      "Norm: 366.94, NNZs: 3072, Bias: -17.128597, T: 1050000, Avg. loss: 4293.050669\n",
      "Total training time: 4.78 seconds.\n",
      "-- Epoch 22\n",
      "Norm: 358.87, NNZs: 3072, Bias: -17.193722, T: 1100000, Avg. loss: 4088.856921\n",
      "Total training time: 5.01 seconds.\n",
      "-- Epoch 23\n",
      "Norm: 350.84, NNZs: 3072, Bias: -17.250982, T: 1150000, Avg. loss: 3921.997021\n",
      "Total training time: 5.24 seconds.\n",
      "-- Epoch 24\n",
      "Norm: 342.33, NNZs: 3072, Bias: -17.310923, T: 1200000, Avg. loss: 3782.636565\n",
      "Total training time: 5.46 seconds.\n",
      "-- Epoch 25\n",
      "Norm: 335.22, NNZs: 3072, Bias: -17.370731, T: 1250000, Avg. loss: 3596.760535\n",
      "Total training time: 5.69 seconds.\n",
      "-- Epoch 26\n",
      "Norm: 328.58, NNZs: 3072, Bias: -17.410742, T: 1300000, Avg. loss: 3476.078275\n",
      "Total training time: 5.92 seconds.\n",
      "-- Epoch 27\n",
      "Norm: 322.14, NNZs: 3072, Bias: -17.474387, T: 1350000, Avg. loss: 3320.204515\n",
      "Total training time: 6.14 seconds.\n",
      "-- Epoch 28\n",
      "Norm: 316.58, NNZs: 3072, Bias: -17.528549, T: 1400000, Avg. loss: 3165.378602\n",
      "Total training time: 6.37 seconds.\n",
      "-- Epoch 29\n",
      "Norm: 310.79, NNZs: 3072, Bias: -17.575609, T: 1450000, Avg. loss: 3115.181992\n",
      "Total training time: 6.60 seconds.\n",
      "-- Epoch 30\n",
      "Norm: 305.14, NNZs: 3072, Bias: -17.625461, T: 1500000, Avg. loss: 2971.718097\n",
      "Total training time: 6.82 seconds.\n",
      "-- Epoch 31\n",
      "Norm: 299.11, NNZs: 3072, Bias: -17.661409, T: 1550000, Avg. loss: 2903.225230\n",
      "Total training time: 7.05 seconds.\n",
      "-- Epoch 32\n",
      "Norm: 296.74, NNZs: 3072, Bias: -17.702928, T: 1600000, Avg. loss: 2757.985277\n",
      "Total training time: 7.27 seconds.\n",
      "-- Epoch 33\n",
      "Norm: 291.55, NNZs: 3072, Bias: -17.743450, T: 1650000, Avg. loss: 2732.194584\n",
      "Total training time: 7.50 seconds.\n",
      "-- Epoch 34\n",
      "Norm: 285.83, NNZs: 3072, Bias: -17.799583, T: 1700000, Avg. loss: 2628.847374\n",
      "Total training time: 7.72 seconds.\n",
      "-- Epoch 35\n",
      "Norm: 282.13, NNZs: 3072, Bias: -17.860089, T: 1750000, Avg. loss: 2519.269107\n",
      "Total training time: 7.95 seconds.\n",
      "-- Epoch 36\n",
      "Norm: 277.90, NNZs: 3072, Bias: -17.908427, T: 1800000, Avg. loss: 2466.103663\n",
      "Total training time: 8.18 seconds.\n",
      "-- Epoch 37\n",
      "Norm: 273.35, NNZs: 3072, Bias: -17.947502, T: 1850000, Avg. loss: 2419.588550\n",
      "Total training time: 8.40 seconds.\n",
      "-- Epoch 38\n",
      "Norm: 270.35, NNZs: 3072, Bias: -17.985887, T: 1900000, Avg. loss: 2320.796272\n",
      "Total training time: 8.63 seconds.\n",
      "-- Epoch 39\n",
      "Norm: 266.74, NNZs: 3072, Bias: -18.013003, T: 1950000, Avg. loss: 2257.415200\n",
      "Total training time: 8.85 seconds.\n",
      "-- Epoch 40\n",
      "Norm: 263.00, NNZs: 3072, Bias: -18.051387, T: 2000000, Avg. loss: 2216.079025\n",
      "Total training time: 9.09 seconds.\n",
      "-- Epoch 41\n",
      "Norm: 260.04, NNZs: 3072, Bias: -18.089792, T: 2050000, Avg. loss: 2128.897068\n",
      "Total training time: 9.31 seconds.\n",
      "-- Epoch 42\n",
      "Norm: 256.69, NNZs: 3072, Bias: -18.121685, T: 2100000, Avg. loss: 2107.608154\n",
      "Total training time: 9.54 seconds.\n",
      "-- Epoch 43\n",
      "Norm: 253.78, NNZs: 3072, Bias: -18.156576, T: 2150000, Avg. loss: 2045.136703\n",
      "Total training time: 9.78 seconds.\n",
      "-- Epoch 44\n",
      "Norm: 251.09, NNZs: 3072, Bias: -18.195267, T: 2200000, Avg. loss: 2012.470492\n",
      "Total training time: 10.00 seconds.\n",
      "-- Epoch 45\n",
      "Norm: 248.52, NNZs: 3072, Bias: -18.226129, T: 2250000, Avg. loss: 1971.809655\n",
      "Total training time: 10.23 seconds.\n",
      "-- Epoch 46\n",
      "Norm: 245.59, NNZs: 3072, Bias: -18.260810, T: 2300000, Avg. loss: 1917.177233\n",
      "Total training time: 10.46 seconds.\n",
      "-- Epoch 47\n",
      "Norm: 242.88, NNZs: 3072, Bias: -18.297572, T: 2350000, Avg. loss: 1866.038363\n",
      "Total training time: 10.69 seconds.\n",
      "-- Epoch 48\n",
      "Norm: 240.04, NNZs: 3072, Bias: -18.330356, T: 2400000, Avg. loss: 1825.929154\n",
      "Total training time: 10.91 seconds.\n",
      "-- Epoch 49\n",
      "Norm: 237.56, NNZs: 3072, Bias: -18.362480, T: 2450000, Avg. loss: 1790.851552\n",
      "Total training time: 11.14 seconds.\n",
      "-- Epoch 50\n",
      "Norm: 234.64, NNZs: 3072, Bias: -18.390073, T: 2500000, Avg. loss: 1776.414799\n",
      "Total training time: 11.37 seconds.\n",
      "-- Epoch 51\n",
      "Norm: 233.37, NNZs: 3072, Bias: -18.424853, T: 2550000, Avg. loss: 1724.116451\n",
      "Total training time: 11.60 seconds.\n",
      "-- Epoch 52\n",
      "Norm: 231.16, NNZs: 3072, Bias: -18.461610, T: 2600000, Avg. loss: 1667.354610\n",
      "Total training time: 11.83 seconds.\n",
      "-- Epoch 53\n",
      "Norm: 229.26, NNZs: 3072, Bias: -18.497809, T: 2650000, Avg. loss: 1646.466356\n",
      "Total training time: 12.05 seconds.\n",
      "-- Epoch 54\n",
      "Norm: 227.53, NNZs: 3072, Bias: -18.522357, T: 2700000, Avg. loss: 1612.361694\n",
      "Total training time: 12.28 seconds.\n",
      "-- Epoch 55\n",
      "Norm: 225.02, NNZs: 3072, Bias: -18.546403, T: 2750000, Avg. loss: 1607.005028\n",
      "Total training time: 12.51 seconds.\n",
      "-- Epoch 56\n",
      "Norm: 223.20, NNZs: 3072, Bias: -18.575895, T: 2800000, Avg. loss: 1558.643386\n",
      "Total training time: 12.74 seconds.\n",
      "-- Epoch 57\n",
      "Norm: 221.71, NNZs: 3072, Bias: -18.602752, T: 2850000, Avg. loss: 1521.148558\n",
      "Total training time: 12.97 seconds.\n",
      "-- Epoch 58\n",
      "Norm: 219.20, NNZs: 3072, Bias: -18.618719, T: 2900000, Avg. loss: 1537.377138\n",
      "Total training time: 13.20 seconds.\n",
      "-- Epoch 59\n",
      "Norm: 217.05, NNZs: 3072, Bias: -18.632845, T: 2950000, Avg. loss: 1491.410148\n",
      "Total training time: 13.43 seconds.\n",
      "-- Epoch 60\n",
      "Norm: 215.16, NNZs: 3072, Bias: -18.656546, T: 3000000, Avg. loss: 1466.249800\n",
      "Total training time: 13.66 seconds.\n",
      "-- Epoch 61\n",
      "Norm: 213.25, NNZs: 3072, Bias: -18.680340, T: 3050000, Avg. loss: 1426.788986\n",
      "Total training time: 13.88 seconds.\n",
      "-- Epoch 62\n",
      "Norm: 211.70, NNZs: 3072, Bias: -18.700150, T: 3100000, Avg. loss: 1412.285446\n",
      "Total training time: 14.11 seconds.\n",
      "-- Epoch 63\n",
      "Norm: 210.10, NNZs: 3072, Bias: -18.728751, T: 3150000, Avg. loss: 1382.527119\n",
      "Total training time: 14.34 seconds.\n",
      "-- Epoch 64\n",
      "Norm: 208.33, NNZs: 3072, Bias: -18.751074, T: 3200000, Avg. loss: 1385.471285\n",
      "Total training time: 14.57 seconds.\n",
      "-- Epoch 65\n",
      "Norm: 206.49, NNZs: 3072, Bias: -18.777075, T: 3250000, Avg. loss: 1348.903399\n",
      "Total training time: 14.80 seconds.\n",
      "-- Epoch 66\n"
     ]
    },
    {
     "name": "stdout",
     "output_type": "stream",
     "text": [
      "Norm: 204.76, NNZs: 3072, Bias: -18.793642, T: 3300000, Avg. loss: 1338.526951\n",
      "Total training time: 15.03 seconds.\n",
      "-- Epoch 67\n",
      "Norm: 203.15, NNZs: 3072, Bias: -18.811355, T: 3350000, Avg. loss: 1295.766918\n",
      "Total training time: 15.25 seconds.\n",
      "-- Epoch 68\n",
      "Norm: 201.25, NNZs: 3072, Bias: -18.842580, T: 3400000, Avg. loss: 1283.963587\n",
      "Total training time: 15.49 seconds.\n",
      "-- Epoch 69\n",
      "Norm: 199.61, NNZs: 3072, Bias: -18.862880, T: 3450000, Avg. loss: 1272.463319\n",
      "Total training time: 15.72 seconds.\n",
      "-- Epoch 70\n",
      "Norm: 198.29, NNZs: 3072, Bias: -18.877612, T: 3500000, Avg. loss: 1264.728317\n",
      "Total training time: 15.95 seconds.\n",
      "-- Epoch 71\n",
      "Norm: 196.89, NNZs: 3072, Bias: -18.906405, T: 3550000, Avg. loss: 1236.430730\n",
      "Total training time: 16.18 seconds.\n",
      "-- Epoch 72\n",
      "Norm: 195.85, NNZs: 3072, Bias: -18.932148, T: 3600000, Avg. loss: 1210.584814\n",
      "Total training time: 16.41 seconds.\n",
      "-- Epoch 73\n",
      "Norm: 194.24, NNZs: 3072, Bias: -18.956809, T: 3650000, Avg. loss: 1201.113901\n",
      "Total training time: 16.65 seconds.\n",
      "-- Epoch 74\n",
      "Norm: 193.03, NNZs: 3072, Bias: -18.972838, T: 3700000, Avg. loss: 1186.953284\n",
      "Total training time: 16.88 seconds.\n",
      "-- Epoch 75\n",
      "Norm: 191.94, NNZs: 3072, Bias: -18.991325, T: 3750000, Avg. loss: 1161.395683\n",
      "Total training time: 17.12 seconds.\n",
      "-- Epoch 76\n",
      "Norm: 191.04, NNZs: 3072, Bias: -19.011806, T: 3800000, Avg. loss: 1147.231216\n",
      "Total training time: 17.35 seconds.\n",
      "-- Epoch 77\n",
      "Norm: 190.01, NNZs: 3072, Bias: -19.031009, T: 3850000, Avg. loss: 1144.048645\n",
      "Total training time: 17.58 seconds.\n",
      "-- Epoch 78\n",
      "Norm: 188.72, NNZs: 3072, Bias: -19.056158, T: 3900000, Avg. loss: 1131.549858\n",
      "Total training time: 17.81 seconds.\n",
      "-- Epoch 79\n",
      "Norm: 187.26, NNZs: 3072, Bias: -19.073608, T: 3950000, Avg. loss: 1097.679893\n",
      "Total training time: 18.04 seconds.\n",
      "-- Epoch 80\n",
      "Norm: 186.38, NNZs: 3072, Bias: -19.098493, T: 4000000, Avg. loss: 1087.385532\n",
      "Total training time: 18.27 seconds.\n",
      "-- Epoch 81\n",
      "Norm: 185.09, NNZs: 3072, Bias: -19.119356, T: 4050000, Avg. loss: 1085.078655\n",
      "Total training time: 18.51 seconds.\n",
      "-- Epoch 82\n",
      "Norm: 184.05, NNZs: 3072, Bias: -19.142455, T: 4100000, Avg. loss: 1062.874602\n",
      "Total training time: 18.74 seconds.\n",
      "-- Epoch 83\n",
      "Norm: 182.95, NNZs: 3072, Bias: -19.158322, T: 4150000, Avg. loss: 1047.250419\n",
      "Total training time: 18.97 seconds.\n",
      "-- Epoch 84\n",
      "Norm: 181.85, NNZs: 3072, Bias: -19.177503, T: 4200000, Avg. loss: 1048.670333\n",
      "Total training time: 19.20 seconds.\n",
      "-- Epoch 85\n",
      "Norm: 180.74, NNZs: 3072, Bias: -19.190249, T: 4250000, Avg. loss: 1030.591636\n",
      "Total training time: 19.44 seconds.\n",
      "-- Epoch 86\n",
      "Norm: 179.66, NNZs: 3072, Bias: -19.212263, T: 4300000, Avg. loss: 1022.027565\n",
      "Total training time: 19.67 seconds.\n",
      "-- Epoch 87\n",
      "Norm: 178.73, NNZs: 3072, Bias: -19.241508, T: 4350000, Avg. loss: 1001.007954\n",
      "Total training time: 19.91 seconds.\n",
      "-- Epoch 88\n",
      "Norm: 177.71, NNZs: 3072, Bias: -19.257698, T: 4400000, Avg. loss: 1000.654571\n",
      "Total training time: 20.14 seconds.\n",
      "-- Epoch 89\n",
      "Norm: 176.75, NNZs: 3072, Bias: -19.267911, T: 4450000, Avg. loss: 988.852785\n",
      "Total training time: 20.39 seconds.\n",
      "-- Epoch 90\n",
      "Norm: 175.84, NNZs: 3072, Bias: -19.284592, T: 4500000, Avg. loss: 971.827824\n",
      "Total training time: 20.62 seconds.\n",
      "-- Epoch 91\n",
      "Norm: 175.06, NNZs: 3072, Bias: -19.304701, T: 4550000, Avg. loss: 957.092761\n",
      "Total training time: 20.85 seconds.\n",
      "-- Epoch 92\n",
      "Norm: 174.08, NNZs: 3072, Bias: -19.321345, T: 4600000, Avg. loss: 960.717963\n",
      "Total training time: 21.08 seconds.\n",
      "-- Epoch 93\n",
      "Norm: 172.97, NNZs: 3072, Bias: -19.343786, T: 4650000, Avg. loss: 939.902466\n",
      "Total training time: 21.32 seconds.\n",
      "-- Epoch 94\n",
      "Norm: 172.20, NNZs: 3072, Bias: -19.356616, T: 4700000, Avg. loss: 929.608506\n",
      "Total training time: 21.55 seconds.\n",
      "-- Epoch 95\n"
     ]
    }
   ],
   "source": [
    "import time\n",
    "\n",
    "start = time.time()\n",
    "sgdlr.fit(X,catY)\n",
    "end = time.time()\n",
    "elapsed = end - start\n",
    "print(\"Training complete.  Time elapsed = \",elapsed)"
   ]
  },
  {
   "cell_type": "code",
   "execution_count": null,
   "metadata": {},
   "outputs": [],
   "source": [
    "sgdlrscore = sgdlr.score(test_X,cat_test_Y)\n",
    "print(\"Logistic Regression Accuracy: \",sgdlrscore)"
   ]
  },
  {
   "cell_type": "markdown",
   "metadata": {},
   "source": [
    "### Support Vector Machine Model"
   ]
  },
  {
   "cell_type": "code",
   "execution_count": null,
   "metadata": {},
   "outputs": [],
   "source": [
    "# Build SVM Regression Model with Stochastic Gradient Descent \n",
    "sgd_svm = SGDClassifier(alpha=0.001, max_iter=5000, verbose = 1, tol=1e-3,n_jobs=4)"
   ]
  },
  {
   "cell_type": "code",
   "execution_count": null,
   "metadata": {},
   "outputs": [],
   "source": [
    "start = time.time()\n",
    "sgd_svm.fit(X,catY)\n",
    "end = time.time()\n",
    "\n",
    "svm_elapsed = end - start\n",
    "print(\"Training complete.  Time elapsed = \",svm_elapsed)"
   ]
  },
  {
   "cell_type": "code",
   "execution_count": null,
   "metadata": {},
   "outputs": [],
   "source": [
    "sgd_svmscore = sgd_svm.score(test_X,cat_test_Y)\n",
    "print(\"Support Vector Machine Model: \",sgd_svmscore)"
   ]
  },
  {
   "cell_type": "code",
   "execution_count": null,
   "metadata": {},
   "outputs": [],
   "source": [
    "#Weights\n",
    "weights = sgd_svm.coef_\n",
    "weights"
   ]
  },
  {
   "cell_type": "markdown",
   "metadata": {},
   "source": [
    "## Model Evaluations\n",
    "\n",
    "In this section we will discuss the advantages of each model for each classification task. Does one type of model offer superior performance over another in terms of prediction accuracy? In terms of training time or efficiency? Explain in detail."
   ]
  },
  {
   "cell_type": "code",
   "execution_count": null,
   "metadata": {},
   "outputs": [],
   "source": [
    "\n",
    "def print_mislabeled_images(X, y, p):\n",
    "    \"\"\"\n",
    "    Plots images where predictions and truth were different.\n",
    "    X -- dataset\n",
    "    y -- true labels\n",
    "    p -- predictions\n",
    "    \"\"\"\n",
    "    a = y == p\n",
    "    mislabeled_indices = np.asarray(np.where(a == False))\n",
    "    plt.rcParams['figure.figsize'] = (10.0, 10.0) # set default size of plots\n",
    "    num_images = len(mislabeled_indices[0])\n",
    "    \n",
    "    print(\"There were \"+str(num_images)+\" mislabeled images.\")\n",
    "    print(\"Here is a sampling of 6 of the mislabeled images.\")\n",
    "    \n",
    "    rand_ids = np.random.randint(num_images, size=6)\n",
    "    for i in range(6):\n",
    "        index = mislabeled_indices[0][i]\n",
    "        plt.subplot(3, 2, i + 1)\n",
    "        plt.imshow(X[index].reshape(3, 32, 32).transpose(1,2,0), interpolation='nearest')\n",
    "        plt.axis('off')\n",
    "        plt.title(\"Prediction:\"+str(p[index]) + \"\\nLabel:\"+str(y[index]))\n",
    "\n"
   ]
  },
  {
   "cell_type": "markdown",
   "metadata": {},
   "source": [
    "### Logistic Regression Mislabeled Images"
   ]
  },
  {
   "cell_type": "code",
   "execution_count": null,
   "metadata": {},
   "outputs": [],
   "source": [
    "sgdpred_test = sgdlr.predict(test_X)\n",
    "print_mislabeled_images(test_X,cat_test_Y,sgdpred_test)"
   ]
  },
  {
   "cell_type": "markdown",
   "metadata": {},
   "source": [
    "### Support Vector Machine Mislabeled Images"
   ]
  },
  {
   "cell_type": "code",
   "execution_count": null,
   "metadata": {},
   "outputs": [],
   "source": [
    "svmpred_test = sgd_svm.predict(test_X)\n",
    "print_mislabeled_images(test_X,cat_test_Y,svmpred_test)"
   ]
  },
  {
   "cell_type": "markdown",
   "metadata": {},
   "source": [
    "### Model Comparison\n",
    "\n",
    "The two models were trained with similar hyperparameters to simplify the A/B comparison between the two models.  The only parameter that varied between the two models was the *loss* parameter. \n",
    "\n",
    "The loss function defaults to ‘hinge’, which gives a linear SVM. The ‘log’ loss gives logistic regression, a probabilistic classifier. \n",
    "\n",
    "The two models we cerated in identifying cats peformed similarly in terms of accuracy, 85% to 89% accuaracy over several test runs.\n",
    "\n",
    "Training times varied depending on the underlying hardware and computer workload; however, the two models were comparable in overall training times on this dataset 69-72 seconds on Intel Core i7-6700 @ 3.4GHz, 24Gb of RAM, 4 Cores, and and NVIDIA 1060. \n",
    "\n",
    "Both models also seemed to mislabel similar images as evident in the plots above.  Both models seemed to struggle with cats in odd, off center poses, or curled up into a ball.  The one car image that was mislabaled as a cat kind of resemebles a cat with the openned hatchback of the car resembling a tail.\n",
    "\n",
    "Overall both models performed similarily in this classification task with the chosen model parameters."
   ]
  },
  {
   "cell_type": "markdown",
   "metadata": {},
   "source": [
    "### Interpreting Feature Importance\n",
    "\n",
    "In this section we will use the weights from logistic regression to interpret the importance of different features for the classification task. Explain your interpretation in detail. Why do you think some variables are more important?"
   ]
  },
  {
   "cell_type": "markdown",
   "metadata": {},
   "source": [
    "### Interpreting Support Vectors\n",
    "\n",
    "In this section we will look at the chosen support vectors for the classification task. Do these provide any insight into the data? Explain. If you used stochastic gradient descent (and therefore did not explicitly solve for support vectors), try subsampling your data to train the SVC model— then analyze the support vectors from the subsampled dataset."
   ]
  },
  {
   "cell_type": "code",
   "execution_count": null,
   "metadata": {},
   "outputs": [],
   "source": []
  },
  {
   "cell_type": "code",
   "execution_count": null,
   "metadata": {},
   "outputs": [],
   "source": []
  }
 ],
 "metadata": {
  "kernelspec": {
   "display_name": "Python 3",
   "language": "python",
   "name": "python3"
  },
  "language_info": {
   "codemirror_mode": {
    "name": "ipython",
    "version": 3
   },
   "file_extension": ".py",
   "mimetype": "text/x-python",
   "name": "python",
   "nbconvert_exporter": "python",
   "pygments_lexer": "ipython3",
   "version": "3.7.3"
  }
 },
 "nbformat": 4,
 "nbformat_minor": 2
}
