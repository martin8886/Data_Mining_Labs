{
 "cells": [
  {
   "cell_type": "markdown",
   "metadata": {},
   "source": [
    "# Lab Two: Classification"
   ]
  },
  {
   "cell_type": "markdown",
   "metadata": {},
   "source": [
    "We will build upon the predictive analysis (classification) that we completed in the\n",
    "previous mini-project, adding additional modeling from new classification algorithms as well as\n",
    "more explanations that are inline with the CRISP-DM framework.\n",
    "\n",
    "We chose to continue to use the CIFAR-10 dataset. We identified the two tasks from the dataset to classify. \n",
    "Task 1: Cats and dogs\n",
    "Task 2: Birds and airplanes\n"
   ]
  },
  {
   "cell_type": "markdown",
   "metadata": {},
   "source": [
    "By Martin Garcia, Joanna Duran, Daniel Byrne"
   ]
  },
  {
   "cell_type": "markdown",
   "metadata": {},
   "source": [
    "## Packages"
   ]
  },
  {
   "cell_type": "code",
   "execution_count": 15,
   "metadata": {},
   "outputs": [],
   "source": [
    "import numpy as np\n",
    "import pandas as pd\n",
    "import matplotlib.pyplot as plt\n",
    "import pickle\n",
    "import random\n",
    "import time\n",
    "import sklearn.naive_bayes as b\n",
    "from sklearn.neighbors import KNeighborsClassifier\n",
    "from sklearn.neural_network import MLPClassifier\n",
    "from sklearn.linear_model import SGDClassifier\n",
    "from sklearn.neural_network import BernoulliRBM\n",
    "from sklearn.linear_model import LogisticRegression\n",
    "from sklearn.decomposition import PCA\n",
    "from sklearn.discriminant_analysis import LinearDiscriminantAnalysis as LDA\n",
    "\n",
    "\n",
    "from sklearn.linear_model import SGDClassifier\n",
    "from sklearn.utils import compute_class_weight\n",
    "\n",
    "%matplotlib inline\n",
    "plt.rcParams['figure.figsize'] = (5.0, 4.0) # set default size of plots\n",
    "plt.rcParams['image.interpolation'] = 'nearest'\n",
    "plt.rcParams['image.cmap'] = 'gray'"
   ]
  },
  {
   "cell_type": "markdown",
   "metadata": {},
   "source": [
    "## Summary of Minilab"
   ]
  },
  {
   "cell_type": "markdown",
   "metadata": {},
   "source": [
    "### Business Understanding\n",
    "Our objective was to create a logistic regression model and a support vector machine model for the classification of each image. We were to determine which model is best suited for this standard classification task based on a comparison on their prediction accuracy, training times, and computational efficiency.\n",
    "\n",
    "The CIFAR-10 dataset (Canadian Institute For Advanced Research) is a collection of images that are commonly used to train machine learning and computer vision algorithms. It is one of the most widely used datasets for machine learning research. It is a subset of the 80 million tiny images dataset and consists of 60,000 32x32 color images containing one of 10 object classes, with 6,000 images per class."
   ]
  },
  {
   "cell_type": "markdown",
   "metadata": {},
   "source": [
    "### Data Meaning Type"
   ]
  },
  {
   "cell_type": "markdown",
   "metadata": {},
   "source": [
    "#### The CIFAR-10 dataset\n",
    "We are using the [CIFAR-10](http://www.cs.toronto.edu/~kriz/cifar.html) dataset which consists of 60,000 32x32 colour images in 10 classes, with 6,000 images per class. The dataset includes are 50,000(80%) training images and 10,000(20%) test images broken in to 5 pre-randomized training batches and 1 test batch."
   ]
  },
  {
   "cell_type": "markdown",
   "metadata": {},
   "source": [
    "Each training batch contains 10,000 observations with a row vector of length 3,072 representative of color image of 32x32 pixels. The first 1,024 columns consist of red values, followed by green, and blue. The data also incorporates labels ranging from 0 to 9 and are listed below.\n",
    "\n",
    "* airplane : 0\n",
    "* automobile : 1\n",
    "* bird : 2\n",
    "* cat : 3\n",
    "* deer : 4\n",
    "* dog : 5\n",
    "* frog : 6\n",
    "* horse : 7\n",
    "* ship : 8\n",
    "* truck : 9"
   ]
  },
  {
   "cell_type": "markdown",
   "metadata": {},
   "source": [
    "The test batch contains 1,000 randomly-selected images from each class. The 5 training batches are randomized and contain a variable number of images from each class. "
   ]
  },
  {
   "cell_type": "markdown",
   "metadata": {},
   "source": [
    "The classes are completely mutually exclusive. There is no overlap between automobiles and trucks. \"Automobile\" includes sedans, SUVs, things of that sort. \"Truck\" includes only big trucks. Neither includes pickup trucks."
   ]
  },
  {
   "cell_type": "markdown",
   "metadata": {},
   "source": [
    "#### Simple Statistics"
   ]
  },
  {
   "cell_type": "code",
   "execution_count": 16,
   "metadata": {},
   "outputs": [],
   "source": [
    "#load the data, reshape to 32x32 matrix per color, transpose matrices\n",
    "def load_cfar10_batch(path, batch_id = None, reshape = True):\n",
    "    \"\"\"\n",
    "    Argument:\n",
    "    path -- path the datasets\n",
    "    batch_id -- id of the batch (1 to 5) to load\n",
    "    \n",
    "    Returns:\n",
    "    parameters -- python dictionary containing:\n",
    "                    X -- features\n",
    "                    Y -- labels\n",
    "    \"\"\"\n",
    "    if batch_id is not None:\n",
    "        filepath = path + 'data_batch_' + str(batch_id)\n",
    "    else:\n",
    "        filepath = path\n",
    "        \n",
    "    with open(filepath, mode='rb') as file:\n",
    "        # note the encoding type is 'latin1'\n",
    "        batch = pickle.load(file, encoding='latin1')\n",
    "    \n",
    "    if reshape:    \n",
    "        X = batch['data'].reshape((len(batch['data']), 3, 32, 32)).transpose(0, 2, 3, 1)\n",
    "        Y = np.array(batch['labels'])\n",
    "    else:\n",
    "        X = batch['data']\n",
    "        Y = np.array(batch['labels'])\n",
    "        \n",
    "    return X, Y"
   ]
  },
  {
   "cell_type": "code",
   "execution_count": 17,
   "metadata": {},
   "outputs": [],
   "source": [
    "def load_cfar10_dataset():\n",
    "    \"\"\"\n",
    "    Loads the cfar10 dataset\n",
    "    \n",
    "    Arguments: \n",
    "        None\n",
    "    \n",
    "    Returns:\n",
    "        X - Training dataset\n",
    "        Y - Training labels\n",
    "         - Test datset\n",
    "        y_test - test labelss\n",
    "    \"\"\"\n",
    "    x_test,y_test = load_cfar10_batch(\"data/test_batch\",None,False)\n",
    "    X,Y = load_cfar10_batch(\"data/\",1,False)\n",
    "\n",
    "    for n in range(2,6):\n",
    "        x,y = load_cfar10_batch(\"data/\",n,False)    \n",
    "        X = np.concatenate((X,x),axis=0)\n",
    "        Y = np.concatenate((Y,y),axis=0)\n",
    "\n",
    "\n",
    "    return (X,Y,x_test,y_test)"
   ]
  },
  {
   "cell_type": "code",
   "execution_count": 18,
   "metadata": {},
   "outputs": [
    {
     "name": "stdout",
     "output_type": "stream",
     "text": [
      "\n",
      "Stats of batch #4:\n",
      "# of Samples: 10000\n",
      "\n",
      "Label Counts of [0](AIRPLANE) : 1003\n",
      "Label Counts of [1](AUTOMOBILE) : 963\n",
      "Label Counts of [2](BIRD) : 1041\n",
      "Label Counts of [3](CAT) : 976\n",
      "Label Counts of [4](DEER) : 1004\n",
      "Label Counts of [5](DOG) : 1021\n",
      "Label Counts of [6](FROG) : 1004\n",
      "Label Counts of [7](HORSE) : 981\n",
      "Label Counts of [8](SHIP) : 1024\n",
      "Label Counts of [9](TRUCK) : 983\n",
      "\n",
      "Example of Image 48:\n",
      "Image - Min Value: 11 Max Value: 211\n",
      "Image - Shape: (32, 32, 3)\n",
      "Label - Label Id: 0 Name: airplane\n"
     ]
    },
    {
     "data": {
      "image/png": "[encoded data removed]",
      "text/plain": [
       "<Figure size 360x288 with 1 Axes>"
      ]
     },
     "metadata": {
      "needs_background": "light"
     },
     "output_type": "display_data"
    }
   ],
   "source": [
    "#load labels for our label\n",
    "def load_label_names():\n",
    "    return ['airplane', 'automobile', 'bird', 'cat', 'deer', 'dog', 'frog', 'horse', 'ship', 'truck']\n",
    "\n",
    "#display images\n",
    "def display_stats(data, batch_id, sample_id):\n",
    "    features, labels = load_cfar10_batch(data, batch_id)\n",
    "\n",
    "    if not (0 <= sample_id < len(features)):\n",
    "        print('{} samples in batch {}.  {} is out of range.'.format(len(features), batch_id, sample_id))\n",
    "        return None\n",
    "\n",
    "    print('\\nStats of batch #{}:'.format(batch_id))\n",
    "    print('# of Samples: {}\\n'.format(len(features)))\n",
    "\n",
    "    label_names = load_label_names()\n",
    "    label_counts = dict(zip(*np.unique(labels, return_counts=True)))\n",
    "    for key, value in label_counts.items():\n",
    "        print('Label Counts of [{}]({}) : {}'.format(key, label_names[key].upper(), value))\n",
    "\n",
    "    sample_image = features[sample_id]\n",
    "    sample_label = labels[sample_id]\n",
    "\n",
    "    print('\\nExample of Image {}:'.format(sample_id))\n",
    "    print('Image - Min Value: {} Max Value: {}'.format(sample_image.min(), sample_image.max()))\n",
    "    print('Image - Shape: {}'.format(sample_image.shape))\n",
    "    print('Label - Label Id: {} Name: {}'.format(sample_label, label_names[sample_label]))\n",
    "    plt.axis('off')\n",
    "    plt.imshow(sample_image)\n",
    "\n",
    "batch_id = random.randint(1,5)\n",
    "sample_id = random.randint(1,10000)\n",
    "display_stats( \"data/\", batch_id, sample_id)"
   ]
  },
  {
   "cell_type": "markdown",
   "metadata": {},
   "source": [
    "## Data Preparation Part 1"
   ]
  },
  {
   "cell_type": "markdown",
   "metadata": {},
   "source": [
    "In this section we will define and prepare our class variables. \n",
    "\n",
    "Each of the batch files contains a dictionary with the following elements: \n",
    "\n",
    "data -- a 10000x3072 numpy array of uint8s. Each row of the array stores a 32x32 colour image. The first 1024 entries contain the red channel values, the next 1024 the green, and the final 1024 the blue. The image is stored in row-major order, so that the first 32 entries of the array are the red channel values of the first row of the image. \n",
    "\n",
    "labels -- a list of 10000 numbers in the range 0-9. The number at index i indicates the label of the ith image in the array data.\n",
    "\n",
    "The dataset contains another file, called batches.meta. It too contains a Python dictionary object. It has the following entries: \n",
    "\n",
    "label_names -- a 10-element list which gives meaningful names to the numeric labels in the labels array described above. For example, label_names[0] == \"airplane\", label_names[1] == \"automobile\", etc.\n",
    "\n",
    "\"Define and prepare your class variables. Use proper variable representations (int, float, one-hot, etc.). Use pre-processing methods (as needed) for dimensionality reduction, scaling, etc. Remove variables that are not needed/useful for the analysis.\""
   ]
  },
  {
   "cell_type": "code",
   "execution_count": 19,
   "metadata": {},
   "outputs": [],
   "source": [
    "def simplify_labels(df,indexes,val = 10):\n",
    "    \"\"\"\n",
    "    Return a modified label dataset filtered ot use only the classes specified\n",
    "\n",
    "    Arguments:\n",
    "    indees: indexes to filter\n",
    "    df : label dataset\n",
    "    val: new label value\n",
    "\n",
    "    Returns:\n",
    "    fdf - filtered df\n",
    "      \n",
    "    \"\"\"\n",
    "\n",
    "    def f(n):\n",
    "        if n in indexes:\n",
    "            return n\n",
    "        else:\n",
    "            return val\n",
    "    \n",
    "    return list(map(f,df))\n"
   ]
  },
  {
   "cell_type": "code",
   "execution_count": 20,
   "metadata": {},
   "outputs": [],
   "source": [
    "#load the data\n",
    "X,Y,x_test,y_test = load_cfar10_dataset()\n",
    "\n",
    "# Simplify datasets to the classes we care about\n",
    "Ycatdog = simplify_labels(Y,[3,5],10)\n",
    "y_test_catdog =simplify_labels(y_test,[3,5],10)\n",
    "Ybirdplane = simplify_labels(Y,[0,2],10)\n",
    "y_test_birdplane = simplify_labels(y_test,[0,2],10)"
   ]
  },
  {
   "cell_type": "markdown",
   "metadata": {},
   "source": [
    "## Data Preparation Part 2"
   ]
  },
  {
   "cell_type": "markdown",
   "metadata": {},
   "source": [
    "The final training dataset is identical to the original.  However, we've created 4 new label datasets\n",
    "\n",
    "- Ycatdog, y_test_catdog  : Cat and dog labels are retained, all others forced to next unused label\n",
    "- Ybirdplane,y_test_birdplane : Bird and plane  labels are retained, all others forced to next unused label\n",
    "\n",
    "\n"
   ]
  },
  {
   "cell_type": "markdown",
   "metadata": {},
   "source": [
    "## Modeling and Evaluation 1"
   ]
  },
  {
   "cell_type": "markdown",
   "metadata": {},
   "source": [
    "\"Choose and explain your evaluation metrics that you will use (i.e., accuracy,\n",
    "precision, recall, F-measure, or any metric we have discussed). Why are the measure(s) appropriate for analyzing the results of your modeling? Give a detailed explanation backing up any assertions.\""
   ]
  },
  {
   "cell_type": "code",
   "execution_count": 21,
   "metadata": {},
   "outputs": [],
   "source": [
    "def buildmodel(nmodel,X,Y,x_test,y_test,**modelargs):\n",
    "    \"\"\"\n",
    "    Builds one of a subset of sklearn models and returns a score\n",
    "    \n",
    "    Arguments:\n",
    "    modeltype -- One of either \"multi\", \"gauss\", \"bernoulli\", \"c\", \"nn\" \n",
    "    \n",
    "    \"\"\"\n",
    "\n",
    "\n",
    "\n",
    "    if nmodel == 'multi':\n",
    "        m = b.MultinomialNB(**modelargs)\n",
    "    elif nmodel == 'gauss':\n",
    "        m = b.GaussianNB(**modelargs)\n",
    "    elif nmodel == 'bernoulli':\n",
    "        m = b.BernoulliNB(**modelargs)\n",
    "    elif nmodel == \"mlp\":\n",
    "        m = MLPClassifier(**modelargs)\n",
    "    elif nmodel == \"svm\":\n",
    "        m = SGDClassifier(**modelargs)\n",
    "    elif nmodel == \"BernoulliRBM\":\n",
    "        m = BernoulliRBM(**modelargs)\n",
    "    elif nmodel == \"LogisticRegression\":\n",
    "        m = LogisticRegression(**modelargs)\n",
    "    \n",
    "    m.fit(X, Y)\n",
    "    score = m.score(x_test,y_test) * 100\n",
    "\n",
    "    return m,score"
   ]
  },
  {
   "cell_type": "code",
   "execution_count": 22,
   "metadata": {},
   "outputs": [
    {
     "name": "stdout",
     "output_type": "stream",
     "text": [
      "MultinomialNB score :% 54.28\n"
     ]
    }
   ],
   "source": [
    "multiNB,multiNBScore = buildmodel('multi',X,Ycatdog,x_test,y_test_catdog, alpha = .01)\n",
    "print(\"MultinomialNB score :%\",round(multiNBScore,2))"
   ]
  },
  {
   "cell_type": "code",
   "execution_count": 23,
   "metadata": {},
   "outputs": [
    {
     "name": "stdout",
     "output_type": "stream",
     "text": [
      "GaussianNB score :% 54.31\n"
     ]
    }
   ],
   "source": [
    "gaussNB, gaussNBScore = buildmodel('gauss',X,Ycatdog,x_test,y_test_catdog,priors=None, var_smoothing=1e-09)\n",
    "print(\"GaussianNB score :%\",round(gaussNBScore,2))"
   ]
  },
  {
   "cell_type": "code",
   "execution_count": 24,
   "metadata": {},
   "outputs": [
    {
     "name": "stdout",
     "output_type": "stream",
     "text": [
      "BernoulliNB score :% 77.17\n"
     ]
    }
   ],
   "source": [
    "berboulliNB, bernoulliNBScore = buildmodel('bernoulli',X,Ycatdog,x_test,y_test_catdog,alpha = .01)\n",
    "print(\"BernoulliNB score :%\",round(bernoulliNBScore,2))"
   ]
  },
  {
   "cell_type": "code",
   "execution_count": 25,
   "metadata": {},
   "outputs": [
    {
     "name": "stdout",
     "output_type": "stream",
     "text": [
      "Iteration 1, loss = 1.78785292\n",
      "Iteration 2, loss = 0.86727220\n",
      "Iteration 3, loss = 0.76278186\n",
      "Iteration 4, loss = 0.70432613\n",
      "Iteration 5, loss = 0.67280934\n",
      "Iteration 6, loss = 0.65628813\n",
      "Iteration 7, loss = 0.64776395\n",
      "Iteration 8, loss = 0.64335083\n",
      "Iteration 9, loss = 0.64110507\n",
      "Iteration 10, loss = 0.63998303\n",
      "Iteration 11, loss = 0.63944688\n",
      "Iteration 12, loss = 0.63921181\n",
      "Iteration 13, loss = 0.63910452\n",
      "Iteration 14, loss = 0.63906923\n",
      "Iteration 15, loss = 0.63906211\n",
      "Iteration 16, loss = 0.63905270\n",
      "Iteration 17, loss = 0.63905964\n",
      "Iteration 18, loss = 0.63905149\n",
      "Iteration 19, loss = 0.63906052\n",
      "Iteration 20, loss = 0.63905933\n",
      "Iteration 21, loss = 0.63905679\n",
      "Iteration 22, loss = 0.63906983\n",
      "Iteration 23, loss = 0.63906838\n",
      "Iteration 24, loss = 0.63905864\n",
      "Training loss did not improve more than tol=0.000100 for 10 consecutive epochs. Stopping.\n",
      "Multi-layer Perceptron score :% 80.0\n"
     ]
    }
   ],
   "source": [
    "mlp, mlpScore = buildmodel('mlp',X,Ycatdog,x_test,y_test_catdog,\n",
    "                           activation = 'relu',hidden_layer_sizes=(10,),learning_rate ='adaptive',verbose = True)\n",
    "print(\"Multi-layer Perceptron score :%\",round(mlpScore,2))"
   ]
  },
  {
   "cell_type": "code",
   "execution_count": 26,
   "metadata": {},
   "outputs": [
    {
     "name": "stderr",
     "output_type": "stream",
     "text": [
      "[Parallel(n_jobs=1)]: Using backend SequentialBackend with 1 concurrent workers.\n",
      "C:\\Users\\Martin\\Anaconda3\\lib\\site-packages\\sklearn\\utils\\optimize.py:203: ConvergenceWarning: newton-cg failed to converge. Increase the number of iterations.\n",
      "  \"number of iterations.\", ConvergenceWarning)\n",
      "[Parallel(n_jobs=1)]: Done   1 out of   1 | elapsed: 39.6min finished\n"
     ]
    },
    {
     "name": "stdout",
     "output_type": "stream",
     "text": [
      "LogisticRegression score :% 77.47\n"
     ]
    }
   ],
   "source": [
    "lr,lrScore = buildmodel('LogisticRegression',X,Ycatdog,x_test,y_test_catdog,\n",
    "                        solver='newton-cg', tol=1,multi_class='multinomial', verbose = True)\n",
    "print(\"LogisticRegression score :%\",round(lrScore,2))"
   ]
  },
  {
   "cell_type": "markdown",
   "metadata": {},
   "source": [
    "## Modeling and Evaluation 2"
   ]
  },
  {
   "cell_type": "markdown",
   "metadata": {},
   "source": [
    " We will assess how well each model performs (use 80/20 training/testing split)and adjust parameters of the models to make them more accurate. \n",
    "\n",
    "\n",
    "\"Choose the method you will use for dividing your data into training and\n",
    "testing splits (i.e., are you using Stratified 10-fold cross validation? Why?). Explain why\n",
    "your chosen method is appropriate or use more than one method as appropriate. For example, if you are using time series data then you should be using continuous training and testing sets across time.\""
   ]
  },
  {
   "cell_type": "markdown",
   "metadata": {},
   "source": [
    "## Modeling and Evaluation 3"
   ]
  },
  {
   "cell_type": "markdown",
   "metadata": {},
   "source": [
    "We identified the two tasks from the dataset to classify. For each task we will create three different classification/regression models\n",
    "\n",
    "Task 1: Cats and dogs\n",
    "\n",
    "    Model A: Random Forest\n",
    "    Model B: KNN\n",
    "    Model C: Logistic regression\n",
    "    \n",
    "Task 2: Birds and airplanes\n",
    "\n",
    "    Model A: Naive Bayes\n",
    "    Model B: Decision Tree\n",
    "    Model C: SVM\n",
    "    \n",
    "\"Create three different classiﬁcation/regression models (e.g., random forest, KNN, and SVM). Two modeling techniques must be new (but the third could be SVM or logistic regression). Adjust parameters as appropriate to increase generalization performance using your chosen metric\"\n"
   ]
  },
  {
   "cell_type": "markdown",
   "metadata": {},
   "source": [
    "### Task1 Model A\n",
    "(Cats and Dogs- Random Forest)"
   ]
  },
  {
   "cell_type": "code",
   "execution_count": null,
   "metadata": {},
   "outputs": [],
   "source": []
  },
  {
   "cell_type": "markdown",
   "metadata": {},
   "source": [
    "### Task1 Model B\n",
    "(Cats and Dogs- KNN)"
   ]
  },
  {
   "cell_type": "code",
   "execution_count": null,
   "metadata": {},
   "outputs": [],
   "source": []
  },
  {
   "cell_type": "markdown",
   "metadata": {},
   "source": [
    "### Task1 Model C\n",
    "(Cats and Dogs- Logistic Regression)"
   ]
  },
  {
   "cell_type": "code",
   "execution_count": null,
   "metadata": {},
   "outputs": [],
   "source": []
  },
  {
   "cell_type": "markdown",
   "metadata": {},
   "source": [
    "### Task2 Model A\n",
    "(Birds and Airplanes- Naive Bayes)"
   ]
  },
  {
   "cell_type": "code",
   "execution_count": null,
   "metadata": {},
   "outputs": [],
   "source": []
  },
  {
   "cell_type": "markdown",
   "metadata": {},
   "source": [
    "### Task2 Model B\n",
    "(Birds and Airplanes- Decision Tree)"
   ]
  },
  {
   "cell_type": "code",
   "execution_count": null,
   "metadata": {},
   "outputs": [],
   "source": []
  },
  {
   "cell_type": "markdown",
   "metadata": {},
   "source": [
    "### Task2 Model C\n",
    "(Birds and Airplanes- SVM)"
   ]
  },
  {
   "cell_type": "code",
   "execution_count": null,
   "metadata": {},
   "outputs": [],
   "source": []
  },
  {
   "cell_type": "markdown",
   "metadata": {},
   "source": [
    "## Modeling and Evaluation 4"
   ]
  },
  {
   "cell_type": "markdown",
   "metadata": {},
   "source": [
    "\"Analyze the results using your chosen method of evaluation. Use visualizations of the results to bolster the analysis. Explain any visuals and analyze why they are interesting to someone that might use this model.\""
   ]
  },
  {
   "cell_type": "markdown",
   "metadata": {},
   "source": [
    "## Modeling and Evaluation 5"
   ]
  },
  {
   "cell_type": "markdown",
   "metadata": {},
   "source": [
    "Advantages of Task 1: Cats and dogs Model A: Random Forest\n",
    "\n",
    "    *\n",
    "Advantages of Task 1: Cats and dogsModel B: KNN\n",
    "\n",
    "    *\n",
    "Advantages of Task 1: Cats and dogsModel C: Logistic regression\n",
    "\n",
    "    *\n",
    "Advantages of Task 2: Birds and airplanes Model A: Naive Bayes\n",
    "\n",
    "    *\n",
    "Advantages of Task 2: Birds and airplanes Model B: Decision Tree\n",
    "\n",
    "    *\n",
    "Advantages of Task 2: Birds and airplanes Model C: SVM\n",
    "\n",
    "    *\n",
    "\n",
    "\"Discuss the advantages of each model for each classification task, if any. If there are not advantages, explain why. Is any model better than another? Is the difference significant with 95% confidence? Use proper statistical comparison methods. You must use statistical comparison techniques—be sure they are appropriate for your chosen method of validation as discussed in unit 7 of the course.\""
   ]
  },
  {
   "cell_type": "markdown",
   "metadata": {},
   "source": [
    "## Modeling and Evaluation 6"
   ]
  },
  {
   "cell_type": "markdown",
   "metadata": {},
   "source": [
    " Which attributes from your analysis are most important? Use proper methods discussed in class to evaluate the importance of different attributes. Discuss the results and hypothesize about why certain attributes are more important than others for a given classiﬁcation task. "
   ]
  },
  {
   "cell_type": "code",
   "execution_count": 28,
   "metadata": {},
   "outputs": [
    {
     "name": "stdout",
     "output_type": "stream",
     "text": [
      "pca: [[ 0.02634975  0.02627648  0.026313   ...  0.01868444  0.01888716\n",
      "   0.01920378]\n",
      " [-0.01584631 -0.01616186 -0.01656463 ...  0.02199469  0.02124091\n",
      "   0.02053795]]\n",
      "lda: [[-2.05338859e-03 -7.79168317e-04 -2.30317076e-05 ... -4.64215822e-03\n",
      "   1.97178526e-03 -2.99241786e-03]\n",
      " [ 2.30977931e-03 -3.51247615e-03 -3.37485589e-03 ... -8.11118903e-04\n",
      "  -1.47820503e-03 -3.47846875e-03]\n",
      " [-2.49042746e-03  6.08211861e-03 -2.34624751e-05 ... -3.52871884e-03\n",
      "  -5.34426910e-04 -4.61496916e-03]\n",
      " ...\n",
      " [-5.98369521e-03  1.33113623e-02 -1.43305223e-02 ... -5.03925773e-03\n",
      "   4.71327528e-03  2.31017255e-03]\n",
      " [ 2.71609200e-03 -9.66598479e-04  3.05438892e-03 ...  1.36139921e-02\n",
      "  -2.62534551e-02  9.65968408e-03]\n",
      " [ 8.33866039e-03 -1.16536746e-02  1.27991731e-02 ...  2.43244158e-03\n",
      "  -1.70172072e-03  3.95571207e-03]]\n"
     ]
    }
   ],
   "source": [
    "#Adding further notes with loadings\n",
    "\n",
    "from sklearn.decomposition import PCA\n",
    "\n",
    "\n",
    "pca = PCA(n_components=2)\n",
    "X_pca = pca.fit(X).transform(X) # fit data and then transform it\n",
    "\n",
    "lda = LDA(n_components=2)\n",
    "X_lda = lda.fit(X, Y).transform(X) # fit data and then transform it\n",
    "\n",
    "# print the components\n",
    "\n",
    "print ('pca:', pca.components_)\n",
    "print ('lda:', lda.scalings_.T)\n",
    "\n",
    "\n"
   ]
  },
  {
   "cell_type": "markdown",
   "metadata": {},
   "source": [
    "## Deployment"
   ]
  },
  {
   "cell_type": "markdown",
   "metadata": {},
   "source": [
    "We believe that our model would be best suited for\n",
    "\n",
    "\"How useful is your model for interested parties (i.e., the companies or organizations that might want to use it for prediction)? How would you measure the model's value if it was used by these parties? How would your deploy your model for interested parties? What other data should be collected? How often would the model need to be updated, etc.?\""
   ]
  },
  {
   "cell_type": "markdown",
   "metadata": {},
   "source": [
    "#### OLD- MAY DELETE -Create Models\n",
    "\n",
    "In this section we will create a logistic regression model and a support vector machine model for the classification task involved with your dataset.  We will assess how well each model performs (use 80/20 training/testing split)and adjust parameters of the models to make them more accurate. "
   ]
  },
  {
   "cell_type": "markdown",
   "metadata": {},
   "source": [
    "One of our primary concerns was that single level logistic regression cannot handle a multiclass problem very well.  In order to tackle this issue we decided to change to simplify the problem to a binary classification exercise. We modified the training labels to be either the \"CAT\"/\"NOT CAT\" which simplified the task for our models."
   ]
  },
  {
   "cell_type": "markdown",
   "metadata": {},
   "source": [
    "#### OLD- MAY DELETE -Logistic Regression Model"
   ]
  },
  {
   "cell_type": "code",
   "execution_count": null,
   "metadata": {
    "scrolled": true
   },
   "outputs": [],
   "source": [
    "# Build Logistic Regression Model with Stochastic Gradient Descent \n",
    "X,Y = load_cfar10_batch(\"data/\",1,False)\n",
    "\n",
    "for n in range(2,6):\n",
    "    x,y = load_cfar10_batch(\"data/\",n,False)    \n",
    "    X = np.concatenate((X,x),axis=0)\n",
    "    Y = np.concatenate((Y,y),axis=0)\n",
    "\n",
    "test_X,test_Y = load_cfar10_batch(\"data/test_batch\",None,False)\n",
    "\n",
    "# Modify the dataset labels to lable cats/not/cats\n",
    "#(if_test_is_false, if_test_is_true)[test]\n",
    "catY = (Y == 3)\n",
    "cat_test_Y = (test_Y == 3) \n",
    "\n",
    "sgdlr = SGDClassifier(alpha=0.001, max_iter=5000, tol=1e-3,verbose=1,n_jobs=4,loss=\"log\")\n",
    "\n",
    "print(\"Data shape: \",X.shape)\n",
    "print(\"Labels shape: \",catY.shape)\n",
    "\n",
    "print(\"Test Data shape: \",test_X.shape)\n",
    "print(\"Test Labels shape: \",cat_test_Y.shape)\n"
   ]
  },
  {
   "cell_type": "code",
   "execution_count": null,
   "metadata": {},
   "outputs": [],
   "source": [
    "import time\n",
    "\n",
    "start = time.time()\n",
    "sgdlr.fit(X,catY)\n",
    "end = time.time()\n",
    "elapsed = end - start\n",
    "print(\"Training complete.  Time elapsed = \",elapsed)"
   ]
  },
  {
   "cell_type": "code",
   "execution_count": null,
   "metadata": {},
   "outputs": [],
   "source": [
    "sgdlrscore = sgdlr.score(test_X,cat_test_Y)\n",
    "print(\"Logistic Regression Accuracy: \",sgdlrscore)"
   ]
  },
  {
   "cell_type": "markdown",
   "metadata": {},
   "source": [
    "#### OLD- MAY DELETE -Support Vector Machine Model"
   ]
  },
  {
   "cell_type": "code",
   "execution_count": null,
   "metadata": {},
   "outputs": [],
   "source": [
    "# Build SVM Regression Model with Stochastic Gradient Descent \n",
    "sgd_svm = SGDClassifier(alpha=0.001, max_iter=5000, verbose = 1, tol=1e-3,n_jobs=4)"
   ]
  },
  {
   "cell_type": "code",
   "execution_count": null,
   "metadata": {},
   "outputs": [],
   "source": [
    "start = time.time()\n",
    "sgd_svm.fit(X,catY)\n",
    "end = time.time()\n",
    "\n",
    "svm_elapsed = end - start\n",
    "print(\"Training complete.  Time elapsed = \",svm_elapsed)"
   ]
  },
  {
   "cell_type": "code",
   "execution_count": null,
   "metadata": {},
   "outputs": [],
   "source": [
    "sgd_svmscore = sgd_svm.score(test_X,cat_test_Y)\n",
    "print(\"Support Vector Machine Model: \",sgd_svmscore)"
   ]
  },
  {
   "cell_type": "code",
   "execution_count": null,
   "metadata": {},
   "outputs": [],
   "source": [
    "#Weights\n",
    "weights = sgd_svm.coef_\n",
    "weights"
   ]
  },
  {
   "cell_type": "markdown",
   "metadata": {},
   "source": [
    "#### OLD- MAY DELETE -Model Advantages\n",
    "\n",
    "We will discuss the advantages of each model for each classification task. Does one type of model offer superior performance over another in terms of prediction accuracy? In terms of training time or efficiency?"
   ]
  },
  {
   "cell_type": "code",
   "execution_count": null,
   "metadata": {},
   "outputs": [],
   "source": [
    "\n",
    "def print_mislabeled_images(X, y, p):\n",
    "    \"\"\"\n",
    "    Plots images where predictions and truth were different.\n",
    "    X -- dataset\n",
    "    y -- true labels\n",
    "    p -- predictions\n",
    "    \"\"\"\n",
    "    a = y == p\n",
    "    mislabeled_indices = np.asarray(np.where(a == False))\n",
    "    plt.rcParams['figure.figsize'] = (10.0, 10.0) # set default size of plots\n",
    "    num_images = len(mislabeled_indices[0])\n",
    "    \n",
    "    print(\"There were \"+str(num_images)+\" mislabeled images.\")\n",
    "    print(\"Here is a sampling of 6 of the mislabeled images.\")\n",
    "    \n",
    "    rand_ids = np.random.randint(num_images, size=6)\n",
    "    for i in range(6):\n",
    "        index = mislabeled_indices[0][i]\n",
    "        plt.subplot(3, 2, i + 1)\n",
    "        plt.imshow(X[index].reshape(3, 32, 32).transpose(1,2,0), interpolation='nearest')\n",
    "        plt.axis('off')\n",
    "        plt.title(\"Prediction:\"+str(p[index]) + \"\\nLabel:\"+str(y[index]))\n",
    "\n"
   ]
  },
  {
   "cell_type": "markdown",
   "metadata": {},
   "source": [
    "####  OLD- MAY DELETE -Logistic Regression Mislabeled Images"
   ]
  },
  {
   "cell_type": "code",
   "execution_count": null,
   "metadata": {},
   "outputs": [],
   "source": [
    "sgdpred_test = sgdlr.predict(test_X)\n",
    "print_mislabeled_images(test_X,cat_test_Y,sgdpred_test)"
   ]
  },
  {
   "cell_type": "markdown",
   "metadata": {},
   "source": [
    "#### OLD- MAY DELETE -Support Vector Machine Mislabeled Images"
   ]
  },
  {
   "cell_type": "code",
   "execution_count": null,
   "metadata": {},
   "outputs": [],
   "source": [
    "svmpred_test = sgd_svm.predict(test_X)\n",
    "print_mislabeled_images(test_X,cat_test_Y,svmpred_test)"
   ]
  },
  {
   "cell_type": "markdown",
   "metadata": {},
   "source": [
    "#### OLD- MAY DELETE -Model Comparison\n",
    "\n",
    "The two models were trained with similar hyperparameters to simplify the A/B comparison between the two models.  The only parameter that varied between the two models was the *loss* parameter. \n",
    "\n",
    "The loss function defaults to ‘hinge’, which gives a linear SVM. The ‘log’ loss gives logistic regression, a probabilistic classifier. \n",
    "\n",
    "The two models we cerated in identifying cats peformed similarly in terms of accuracy, 85% to 89% accuaracy over several test runs.\n",
    "\n",
    "Training times varied depending on the underlying hardware and computer workload; however, the two models were comparable in overall training times on this dataset 69-72 seconds on Intel Core i7-6700 @ 3.4GHz, 24Gb of RAM, 4 Cores, and and NVIDIA 1060. \n",
    "\n",
    "Both models also seemed to mislabel similar images as evident in the plots above.  Both models seemed to struggle with cats in odd, off center poses, or curled up into a ball.  The one car image that was mislabaled as a cat kind of resemebles a cat with the openned hatchback of the car resembling a tail.\n",
    "\n",
    "Overall both models performed similarily in this classification task with the chosen model parameters."
   ]
  },
  {
   "cell_type": "markdown",
   "metadata": {},
   "source": [
    "#### OLD- MAY DELETE -Interpreting Feature Importance\n",
    "\n",
    "In this section we will use the weights from logistic regression to interpret the importance of different features for the classification task.\n",
    "\n",
    "Individual weights represent the strength of connection between our units, in this case it is a connection from our array of pixels which come in three magnitudes of RBG colors. If the weights are overlayed as a matrix we can see the influence of specific colors to help us identify a class. The weights act as a filter coefficient for each pixel of our array of length. We define the score of each class in this case cat vs not cat based on the weighted sum of all the pixels with all images, each class sore is a linear function over this space."
   ]
  },
  {
   "cell_type": "code",
   "execution_count": null,
   "metadata": {},
   "outputs": [],
   "source": [
    "#Weights\n",
    "print(X.shape)\n",
    "\n",
    "weights = sgd_svm.coef_\n",
    "print(weights.shape)\n",
    "#plt.scatter(X,weights)"
   ]
  },
  {
   "cell_type": "markdown",
   "metadata": {},
   "source": [
    "#### OLD- MAY DELETE - Interpreting Support Vectors\n",
    "\n",
    "In this section we will look at the chosen support vectors for the classification task. "
   ]
  },
  {
   "cell_type": "code",
   "execution_count": null,
   "metadata": {},
   "outputs": [],
   "source": [
    "from sklearn.svm import SVC\n",
    "clf = SVC(gamma='auto')\n",
    "clf.fit(X, catY) \n",
    "SVC(C=1.0, cache_size=200, class_weight=None, coef0=0.0,\n",
    "    decision_function_shape='ovr', degree=3, gamma='auto', kernel='rbf',\n",
    "    max_iter=-1, probability=False, random_state=None, shrinking=True,\n",
    "    tol=0.001, verbose=False)"
   ]
  },
  {
   "cell_type": "markdown",
   "metadata": {},
   "source": []
  }
 ],
 "metadata": {
  "kernelspec": {
   "display_name": "Python 3",
   "language": "python",
   "name": "python3"
  },
  "language_info": {
   "codemirror_mode": {
    "name": "ipython",
    "version": 3
   },
   "file_extension": ".py",
   "mimetype": "text/x-python",
   "name": "python",
   "nbconvert_exporter": "python",
   "pygments_lexer": "ipython3",
   "version": "3.7.1"
  }
 },
 "nbformat": 4,
 "nbformat_minor": 2
}
