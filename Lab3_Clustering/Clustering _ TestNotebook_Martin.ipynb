{
 "cells": [
  {
   "cell_type": "markdown",
   "metadata": {},
   "source": [
    "Attributes are pixels representative of colors red green and blue. Independent from modeling we can see that the attributes do help define the the labels. We can see this more clearly in a graph and can notice the difference of class label 9 and 3 which group separately in a distribution of all our classes. This translates to different classes depending on different loadings in each principle component and no overlapping of our labels in a distribution is consistent with these findings. Translating this it means the classes depend on the values of specific pixels for identification."
   ]
  },
  {
   "cell_type": "markdown",
   "metadata": {},
   "source": [
    "#Dimensionality Reduction techniques applied \n",
    "Random Forest\n",
    "PCA\n",
    "SVD\n",
    "Backward Feature Elimination\n",
    "Forward Feature Selection"
   ]
  },
  {
   "cell_type": "markdown",
   "metadata": {},
   "source": []
  }
 ],
 "metadata": {
  "kernelspec": {
   "display_name": "Python 3",
   "language": "python",
   "name": "python3"
  },
  "language_info": {
   "codemirror_mode": {
    "name": "ipython",
    "version": 3
   },
   "file_extension": ".py",
   "mimetype": "text/x-python",
   "name": "python",
   "nbconvert_exporter": "python",
   "pygments_lexer": "ipython3",
   "version": "3.7.1"
  }
 },
 "nbformat": 4,
 "nbformat_minor": 2
}
